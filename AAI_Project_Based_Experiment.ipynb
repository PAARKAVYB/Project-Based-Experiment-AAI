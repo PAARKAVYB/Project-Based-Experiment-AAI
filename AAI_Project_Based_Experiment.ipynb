{
  "nbformat": 4,
  "nbformat_minor": 0,
  "metadata": {
    "colab": {
      "provenance": []
    },
    "kernelspec": {
      "name": "python3",
      "display_name": "Python 3"
    },
    "language_info": {
      "name": "python"
    }
  },
  "cells": [
    {
      "cell_type": "code",
      "source": [
        "import pandas as pd\n",
        "from textblob import TextBlob\n",
        "\n",
        "# Read data from CSV file\n",
        "data = pd.read_csv(\"fb_sentiment.csv\")\n",
        "\n",
        "# Given name to count occurrences\n",
        "given_name = \"Paarkavy\"\n",
        "\n",
        "# Initialize counters for sentiment analysis\n",
        "sentiment_counts = {'positive': 0, 'negative': 0, 'neutral': 0}\n",
        "\n",
        "# Initialize and Count occurrences for the given name\n",
        "name_occurrences = sum(post.lower().count(given_name.lower()) for post in data['FBPost'])\n",
        "\n",
        "# Perform sentiment analysis and count occurrences of the given name\n",
        "for post in data['FBPost']:\n",
        "    polarity = TextBlob(post).sentiment.polarity\n",
        "    sentiment_counts['positive'] += polarity > 0\n",
        "    sentiment_counts['negative'] += polarity < 0\n",
        "    sentiment_counts['neutral'] += polarity == 0\n",
        "\n",
        "# Print sentiment analysis results\n",
        "print(\"Sentiment Analysis Results:\")\n",
        "for sentiment, count in sentiment_counts.items():\n",
        "    print(f\"{sentiment.capitalize()} sentiment: {count}\")\n",
        "\n",
        "# Print occurrences of the given name\n",
        "print(f\"Occurrences of '{given_name}': {name_occurrences}\")\n"
      ],
      "metadata": {
        "colab": {
          "base_uri": "https://localhost:8080/"
        },
        "id": "-PWgq2SgTK9K",
        "outputId": "eeff9fb4-71a1-4547-dd16-47132790d9df"
      },
      "execution_count": 11,
      "outputs": [
        {
          "output_type": "stream",
          "name": "stdout",
          "text": [
            "Sentiment Analysis Results:\n",
            "Positive sentiment: 732\n",
            "Negative sentiment: 83\n",
            "Neutral sentiment: 185\n",
            "Occurrences of 'Paarkavy': 0\n"
          ]
        }
      ]
    }
  ]
}